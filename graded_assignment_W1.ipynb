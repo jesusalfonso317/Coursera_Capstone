{
 "cells": [
  {
   "cell_type": "markdown",
   "metadata": {},
   "source": [
    "# The Battle of neighborhood"
   ]
  },
  {
   "cell_type": "markdown",
   "metadata": {},
   "source": [
    "## Introduction"
   ]
  },
  {
   "cell_type": "markdown",
   "metadata": {},
   "source": [
    "### Background"
   ]
  },
  {
   "cell_type": "markdown",
   "metadata": {},
   "source": [
    "During my work i have encounter a lot of people that came to work from different countries and one problem that is common during our conversations is how to find a suitable place to live each time a new job in diferent country arise"
   ]
  },
  {
   "cell_type": "markdown",
   "metadata": {},
   "source": [
    "### Description of the problem"
   ]
  },
  {
   "cell_type": "markdown",
   "metadata": {},
   "source": [
    "So lets solve a modern problem, the work as consultant (of any area) is becoming more common so there is a necesity to find suitable places to live during travels to different countries"
   ]
  },
  {
   "cell_type": "markdown",
   "metadata": {},
   "source": [
    "## Data"
   ]
  },
  {
   "cell_type": "markdown",
   "metadata": {},
   "source": [
    "We will use the capstone data and for this example we will use Manhattan Data\n",
    "\n",
    "* Apartment must be 1 or 2 bedrooms\n",
    "* Desired location is near a metro station\n",
    "* Desirable to have venues such as coffee shops, restaurants, wine stores, gym and food shops\n",
    "\n",
    "The data will be used as follows:\n",
    "\n",
    "* Use Foursquare and geopy data to map top 10 venues for all Manhattan neighborhoods and clustered in groups\n",
    "* Use foursquare and geopy data to map the location of subway metro stations , separately and on top of the above clustered map in order to be able to identify the * * venues and ammenities near each metro station, or explore each subway location separately"
   ]
  },
  {
   "cell_type": "code",
   "execution_count": null,
   "metadata": {},
   "outputs": [],
   "source": []
  }
 ],
 "metadata": {
  "kernelspec": {
   "display_name": "Python 3",
   "language": "python",
   "name": "python3"
  },
  "language_info": {
   "codemirror_mode": {
    "name": "ipython",
    "version": 3
   },
   "file_extension": ".py",
   "mimetype": "text/x-python",
   "name": "python",
   "nbconvert_exporter": "python",
   "pygments_lexer": "ipython3",
   "version": "3.8.2"
  }
 },
 "nbformat": 4,
 "nbformat_minor": 4
}
